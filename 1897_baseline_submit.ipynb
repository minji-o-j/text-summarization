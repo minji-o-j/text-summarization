{
  "cells": [
    {
      "cell_type": "markdown",
      "metadata": {
        "id": "gsCJbbiqT0Yl"
      },
      "source": [
        "### 샘플 제출 파일을 다운로드 받습니다."
      ]
    },
    {
      "cell_type": "code",
      "execution_count": 1,
      "metadata": {},
      "outputs": [],
      "source": [
        "from pororo import Pororo\n",
        "from tqdm import tqdm"
      ]
    },
    {
      "cell_type": "code",
      "execution_count": 2,
      "metadata": {},
      "outputs": [
        {
          "name": "stderr",
          "output_type": "stream",
          "text": [
            "The tokenizer class you load from this checkpoint is not the same type as the class this function is called from. It may result in unexpected tokenization. \n",
            "The tokenizer class you load from this checkpoint is 'BartTokenizer'. \n",
            "The class this function is called from is 'PreTrainedTokenizerFast'.\n"
          ]
        }
      ],
      "source": [
        "abs_summ = Pororo(task=\"text_summarization\", lang=\"ko\", model=\"abstractive\")"
      ]
    },
    {
      "cell_type": "markdown",
      "metadata": {
        "id": "5Gf5jdORdnnR"
      },
      "source": [
        "### 데이터를 열어봅니다.\n"
      ]
    },
    {
      "cell_type": "code",
      "execution_count": 4,
      "metadata": {
        "colab": {
          "base_uri": "https://localhost:8080/"
        },
        "id": "sVKIcAInknp2",
        "outputId": "1c76a478-d425-48f5-9865-0a2e62a42c2b"
      },
      "outputs": [
        {
          "name": "stdout",
          "output_type": "stream",
          "text": [
            "There are 4640 paragrphs in the test set.\n",
            "\n",
            "The first paragraph in the test set: \n",
            "{\n",
            "\t\"original\": \"공주시 무령왕릉에서 발견된 청동거울로 청동신수경, 의자손수대경, 수대경 3점이다. 청동신수경은 ‘방격규구문경’이라는 중국 후한의 거울을 모방하여 만든 것이다. 거울 내부에는 반나체 인물상과 글이 새겨져 있는데 이는 한나라의 거울에서 흔히 볼 수 있는 것이다. 의자손수대경은 중국 한대의 수대경을 본떠 만든 방제경이다. 거울 중앙의 꼭지를 중심으로 9개의 돌기가 있고, 안에는 크고 작은 원과 7개의 돌기가 솟아있다. 내부 주위의 테두리에는 명문이 새겨져 있으나 선명하지 못하여 알아볼 수 없다. 수대경 역시 한나라 때 동물 문양을 새겨 넣은 수대경을 본떠서 만들어진 방제경이다. 그러나 한나라 거울에 비해 선이 굵고 무늬가 정교하지 못하다.\",\n",
            "\t\"summary\": \"\",\n",
            "\t\"Meta\": {\n",
            "\t\t\"passage_id\": \"REPORT-cultural_assets-00164-01180\",\n",
            "\t\t\"doc_name\": \"무령왕릉 청동거울 일괄 (武寧王陵 銅鏡 一括)\",\n",
            "\t\t\"category\": \"cul_ass\",\n",
            "\t\t\"author\": null,\n",
            "\t\t\"publisher\": null,\n",
            "\t\t\"publisher_year\": null,\n",
            "\t\t\"doc_origin\": \"문화재청\"\n",
            "\t}\n",
            "}\n"
          ]
        }
      ],
      "source": [
        "import json\n",
        "\n",
        "with open('1923_test_summary.json', encoding='utf-8') as file:\n",
        "    test_dataset = json.load(file)\n",
        "\n",
        "print(\"There are {} paragrphs in the test set.\\n\".format(len(test_dataset)))\n",
        "\n",
        "print(\"The first paragraph in the test set: \")\n",
        "print(json.dumps(test_dataset[0], indent='\\t', ensure_ascii=False))"
      ]
    },
    {
      "cell_type": "markdown",
      "metadata": {
        "id": "ulzW0MuWfJyP"
      },
      "source": [
        "### 참가자가 개발한 알고리즘으로 추론한 요약을 업데이트 합니다.\n",
        "\n",
        "아래는 랜덤하게 3 개의 문장을 뽑아 요약하는 예시입니다."
      ]
    },
    {
      "cell_type": "code",
      "execution_count": 5,
      "metadata": {},
      "outputs": [],
      "source": [
        "ext_summ = Pororo(task=\"text_summarization\", lang=\"ko\", model=\"extractive\")"
      ]
    },
    {
      "cell_type": "code",
      "execution_count": 6,
      "metadata": {},
      "outputs": [
        {
          "name": "stderr",
          "output_type": "stream",
          "text": [
            "  0%|          | 0/4640 [00:00<?, ?it/s][Korean Sentence Splitter]: Initializing Pynori...\n",
            " 64%|██████▎   | 2956/4640 [2:51:54<2:33:00,  5.45s/it]"
          ]
        },
        {
          "name": "stdout",
          "output_type": "stream",
          "text": [
            "'TK 백년대계'로 불리는 9조 원짜리 대구경북통합신공항(이하 신공항) 이전 사업.\n",
            "  이 신공항이 어디로 들어가는지에 대한 최종 결정이 하루 앞으로 다가왔다.\n",
            "   대구시 측은 \"3일 오후 3시부터 국방부 장관 주관 아래 신공항 이전지를 결정하는 선정위원회가 열린다\"고 2일 밝혔다.\n",
            "   선정위가 가진 결정 옵션은 3가지다.\n",
            "  우선 올 1월 주민투표 정해둔 공동 후보지인 의성군 비안면, 군위군 소보면 일대에 신공항을 짓겠다고 발표하는 것이다.\n",
            "  이렇게 되면 공동 후보지를 원하지 않은 군위군의 거센 반발이 예상된다.\n",
            "    다음은 사업 보류·백지화다.\n",
            "  제3 후보지를 다시 정해 신공항 이전 사업을 재추진하겠다고 발표하는 것이다.\n",
            "  이런 결정을 하면 주민투표를 하는 등 반년 이상 질질 끌어온 사업 준비 과정 자체가 헛수고가 된다.\n",
            "  시민단체나 지역 국회의원들의 반발도 예정된 수순.\n",
            "    마지막 결정 옵션은 군위군이 유치를 신청한 단독 후보지인 군위군 우보면을 받아들이는 것이다.\n",
            "  이렇게 되면 국방부는 의성군의 반발에다 이전부지 선정 기준 미충족이라는 법적 문제에 직면할 수 있다.\n",
            "  대구시 신공항 이전 담당자는 \"어떤 결정이 나올지 예상도 못 할 난감한 상황이다.\n",
            "  3일 선정위 자리에서 열띤 토론이 예상된다\"고 했다.\n",
            "  경북도 관계자는 \"결정 단순 보류 쪽으로 나올 수도 있을 것 같다.\n",
            "  국방부도 부담이 있어 조금 더 시간을 가지고 싶어할 수 있다\"고 했다.\n",
            "     결정 'D-1'에 들어갔지만, 의성군과 군위군은 여전히 상반된 주장을 굽히지 않고 있다.\n",
            "  의성은 공동 후보지인 의성군 비안면, 군위군 소보면으로 신공항을 유치하겠다는 의지가 확고하다.\n",
            "  군위는 단독 후보지인 군위군 우보면 일대로 신공항을 옮겨야 한다는 강경한 입장이다.\n",
            "  군위군 측은 군공항이전법에 ‘주민 의사를 충실히 반영해야 한다’는 조항을 거론하면서 \"군위군민 74%가 지지한 우보면으로 단독 유치를 신청한 것이다\"는 설명이다.\n",
            "     군위군의 입장 변화를 위해 대구시 등은 인센티브 안을 마련해 최근 제안했다.\n",
            "  인센티브 안은 ① 민항시설 및 부대시설을 군위군 쪽에 짓고 ② 군 영외 관사와 ③ 공항 배후에 들어서는 산업단지를 군위군 쪽에 건립한다는 것이다.\n",
            "  ④ 공항 진입로 및 나들목(IC) 신설 ⑤ 시·도 공무원 연수시설 건립 방안 등도 인센티브 안에 포함됐다.\n",
            "  대체로 군위군에 유리한 내용.\n",
            "  하지만 군위군 측은“의성군이 신공항 대신 이런 인센티브 안을 받으면 되겠다\"며 역제안을 하는 상황이다.\n",
            " \n"
          ]
        },
        {
          "name": "stderr",
          "output_type": "stream",
          "text": [
            " 77%|███████▋  | 3577/4640 [3:42:45<50:17,  2.84s/it]"
          ]
        },
        {
          "name": "stdout",
          "output_type": "stream",
          "text": [
            " 또한, 코로나19에 따른 확대 지원 등 일자리안정자금이 노동비용 부담 경감에 도움이 되었다는 응답이 77.8%로 영세 사업주의 경영 부담 완화에 기여한 것으로 나타났다.\n",
            "   ’20.10월 일자리안정자금 지원 사업체 실태조사 결과 \n",
            " 이러한 일자리안정자금 지원 영향으로 코로나19 위기에도 불구하고 30인 미만 사업장의 고용보험 피보험자가 11월 말 기준으로 전년동월 대비 108천명(1.8%) 증가했고, \n",
            "   전년 동기 대비 고용보험 피보험자수 증감:(’18.11월) 255천명(+4.5%) → (’19.11월) 223천명(+3.8%) → (’20.11월) 108천명(+1.8%)\n",
            " 30인 미만 사업장 소속 근로자의 평균 근속기간은 ’17년 3.9년에서 ’19년 4.4년으로 증가했으며, 저임금 근로자의 소득증대 및 임금 격차 해소에도 기여했다.\n",
            "   ▴근속기간(30인 미만): (’17)3.9년→(’18)4.1년→ (’19)4.4년 ▴저임금근로자 비중: (’17) 22.3% (’18) 19% (’19) 17%▴5분위배율(배): (’17) 5.06 (’18) 4.67 (’19) 4.5▴최저임금 미만율: (’17) 6.1% → (’18) 5.1% → (’19)4.8% <이상 고용형태별 근로실태조사>\n",
            " \n",
            " 이재갑 장관은 “최근 3년 동안 일자리안정자금이 최저임금 인상에 따른 영세 사업주 부담을 완화하고 노동자 고용유지에 큰 역할을 해 왔다.”라면서,\n",
            " “내년에도 코로나19 확산에 따른 영세 사업주의 경영 부담이 가중될 것으로 예상되므로 집행관리 내실화 및 사후관리를 강화하여 ‘꼭 필요한 곳에 제대로 지원’될 수 있도록 하겠다.”라고 밝혔다.\n",
            "\n"
          ]
        },
        {
          "name": "stderr",
          "output_type": "stream",
          "text": [
            " 83%|████████▎ | 3829/4640 [3:55:19<39:53,  2.95s/it]"
          ]
        },
        {
          "name": "stdout",
          "output_type": "stream",
          "text": [
            " (규제개선) 대부분의 업체들의 가장 큰 관심사는 관련 규제의 정비여부이나, 규제개선에 대한 정보를 부처/기관으로부터 공유받지 못하는데 대한 아쉬움을 나타내기도 하였습니다.\n",
            " 만족도 조사 결과를 종합해 보면, 규제 샌드박스에 대한 일반기업의 인지도가 크게 향상되었고, 승인기업의 만족도도 높은 수준을 유지하고 있습니다.\n",
            "   인지도 :(‘19)43.3%→(’20)70.7%  만족도 :(‘19)90.2%→(’20)91.7%\n",
            " 따라서, 국조실 및 관계부처는 높은 인지도와 만족도를 기반으로 시행 3년차가 되는 내년부터는 제도의 안정적이고 효과적인 운영에 집중할 예정입니다.\n",
            " 또한, 규제 샌드박스 실증특례를 승인받은 기업이 실증테스트 결과 사업의 유효성안전성이 입증되었으나, 국회에서 법률 개정이 지연되는 등으로 실증테스트 기간(최대4년)이 만료될 경우 더이상 사업을 지속할 수 없다는 우려에 대해서는 \n",
            "  실증특례를 임시허가로 전환해 주거나 실증특례 기간이 종료되지 않은 것으로 간주해주는 법률 개정안이 국회에 제출된 상태입니다.\n",
            " 주관부처 선택의 어려움, 신청서류 과다 등의 애로요인에 대해서는 국조실 중심으로 관계부처가 개선을 검토할 예정입니다.\n",
            " 국무조정실 이정원 규제조정실장은 “규제 샌드박스 제도에 대한 기업들의 인지도가 계속 상승하고 있으며, 2년 연속으로 90%가 넘는 승인기업이 만족하고 있는 것은 혁신적인 신기술과 서비스 개발을 위한 기업의 끊임없는 도전과 이를 지원하기 위한 공무원의 적극적인 노력이 있었기에 가능했다”면서, \n",
            " “조사 결과를 규제 샌드박스 발전방안에 반영하여 내년에도 더욱 많은 기업이 혁신적 시도의 기회를 누리고, 이를 통해 규제 샌드박스의 성과가 더욱 확대될 수 있도록 노력하겠다”고 하였습니다.\n",
            "\n"
          ]
        },
        {
          "name": "stderr",
          "output_type": "stream",
          "text": [
            "100%|██████████| 4640/4640 [4:35:43<00:00,  3.57s/it]\n"
          ]
        }
      ],
      "source": [
        "from random import choices\n",
        "\n",
        "my_summaries = []\n",
        "for paragraph in tqdm(test_dataset):\n",
        "    original = paragraph['original']\n",
        "    # original = original.replace('.', '.\\n')\n",
        "    # pick 3 sentences randomly and update 'summary'\n",
        "    # summary = '\\n'.join(choices(original.split('\\n'), k=2))\n",
        "    specials = {'\\n': ' ', '\\u2009': ' ', '\\u3000': ' ', '…': '...', '\\u200b': ' ', '(’': '(', '(‘': '('}\n",
        "    # specials = {'\\u3000': ' ', '…': '...', '\\u200b': ' ', '\\n': ''}\n",
        "    for s in specials:\n",
        "        original = original.replace(s, specials[s])\n",
        "    try:\n",
        "        paragraph['summary'] = ext_summ(original)\n",
        "        my_summaries.append(paragraph)\n",
        "    except:\n",
        "        # print(paragraph.find('\\u'))\n",
        "        print(paragraph['original'])\n",
        "    # my_summaries.append(paragraph)"
      ]
    },
    {
      "cell_type": "markdown",
      "metadata": {},
      "source": [
        "## 총 문장이 4640"
      ]
    },
    {
      "cell_type": "code",
      "execution_count": 38,
      "metadata": {},
      "outputs": [
        {
          "name": "stdout",
          "output_type": "stream",
          "text": [
            "4637\n"
          ]
        }
      ],
      "source": [
        "print(len(my_summaries))"
      ]
    },
    {
      "cell_type": "code",
      "execution_count": null,
      "metadata": {
        "id": "QnF0Xf_Idj5Y"
      },
      "outputs": [],
      "source": [
        "# from random import choices\n",
        "\n",
        "# my_summaries = []\n",
        "# for paragraph in test_dataset:\n",
        "#     original = paragraph['original']\n",
        "#     original = original.replace('.', '.\\n')\n",
        "#     # pick 3 sentences randomly and update 'summary'\n",
        "#     summary = '\\n'.join(choices(original.split('\\n'), k=3))\n",
        "#     paragraph['summary'] = summary\n",
        "#     my_summaries.append(paragraph)"
      ]
    },
    {
      "cell_type": "markdown",
      "metadata": {
        "id": "7QoM7wQPfv58"
      },
      "source": [
        "### 추론한 요약문을 확인합니다."
      ]
    },
    {
      "cell_type": "code",
      "execution_count": 106,
      "metadata": {
        "colab": {
          "base_uri": "https://localhost:8080/"
        },
        "id": "3Egk30y_fyEC",
        "outputId": "12db7499-c06e-4a01-e6df-b24b9e7106c4"
      },
      "outputs": [
        {
          "name": "stdout",
          "output_type": "stream",
          "text": [
            "The first paragraph in the test set: \n",
            "{\n",
            "\t\"original\": \"공주시 무령왕릉에서 발견된 청동거울로 청동신수경, 의자손수대경, 수대경 3점이다. 청동신수경은 ‘방격규구문경’이라는 중국 후한의 거울을 모방하여 만든 것이다. 거울 내부에는 반나체 인물상과 글이 새겨져 있는데 이는 한나라의 거울에서 흔히 볼 수 있는 것이다. 의자손수대경은 중국 한대의 수대경을 본떠 만든 방제경이다. 거울 중앙의 꼭지를 중심으로 9개의 돌기가 있고, 안에는 크고 작은 원과 7개의 돌기가 솟아있다. 내부 주위의 테두리에는 명문이 새겨져 있으나 선명하지 못하여 알아볼 수 없다. 수대경 역시 한나라 때 동물 문양을 새겨 넣은 수대경을 본떠서 만들어진 방제경이다. 그러나 한나라 거울에 비해 선이 굵고 무늬가 정교하지 못하다.\",\n",
            "\t\"summary\": \"공주시 무령왕릉에서 발견된 청동거울로 청동신수경, 의자손수대경, 수대경 3점이다. 청동신수경은 ‘방격규구문경’이라는 중국 후한의 거울을 모방하여 만든 것이다. 수대경 역시 한나라 때 동물 문양을 새겨 넣은 수대경을 본떠서 만들어진 방제경이다.\",\n",
            "\t\"Meta\": {\n",
            "\t\t\"passage_id\": \"REPORT-cultural_assets-00164-01180\",\n",
            "\t\t\"doc_name\": \"무령왕릉 청동거울 일괄 (武寧王陵 銅鏡 一括)\",\n",
            "\t\t\"category\": \"cul_ass\",\n",
            "\t\t\"author\": null,\n",
            "\t\t\"publisher\": null,\n",
            "\t\t\"publisher_year\": null,\n",
            "\t\t\"doc_origin\": \"문화재청\"\n",
            "\t}\n",
            "}\n"
          ]
        }
      ],
      "source": [
        "print(\"The first paragraph in the test set: \")\n",
        "print(json.dumps(my_summaries[0], indent='\\t', ensure_ascii=False))"
      ]
    },
    {
      "cell_type": "markdown",
      "metadata": {
        "id": "aFKnavZyfb6N"
      },
      "source": [
        "### 추론한 요약문을 저장합니다.\n",
        "\n",
        "json.dump 메소드로 딕셔너리를 저장할 때에 한글이 깨지지 않게 \n",
        "주의하세요."
      ]
    },
    {
      "cell_type": "code",
      "execution_count": 107,
      "metadata": {
        "id": "PklKBTtcfePA"
      },
      "outputs": [],
      "source": [
        "with open('1923_my_summary.json', 'w', encoding=\"utf-8\") as file:\n",
        "    json.dump(my_summaries, file, indent='\\t', ensure_ascii=False)"
      ]
    },
    {
      "cell_type": "markdown",
      "metadata": {
        "id": "R3XQIj0N5VQW"
      },
      "source": [
        "왼쪽 사이드바에 파일 아이콘을 선택한 후, \"1923_my_summary.json\" 파일을 선택하여, 파일 이름 옆 메뉴에서 다운로드를 클릭 후 파일을 다운로드 받습니다.\n"
      ]
    },
    {
      "cell_type": "markdown",
      "metadata": {
        "id": "ZUYWCv6MU-UP"
      },
      "source": [
        "다운로드 받은 1923_my_summary.json 파일을 아래 태스크에 제출합니다. http://aifactory.space/competition/detail/1923"
      ]
    },
    {
      "cell_type": "code",
      "execution_count": null,
      "metadata": {
        "id": "j3md8YsogCdS"
      },
      "outputs": [],
      "source": []
    }
  ],
  "metadata": {
    "colab": {
      "collapsed_sections": [],
      "name": "1897_baseline_submit.ipynb",
      "provenance": []
    },
    "interpreter": {
      "hash": "e31c68abf1d5dd3f9e2269f23eadf1b199587e56c0618a30760176a65ebfcab4"
    },
    "kernelspec": {
      "display_name": "lightweight",
      "language": "python",
      "name": "python3"
    },
    "language_info": {
      "codemirror_mode": {
        "name": "ipython",
        "version": 3
      },
      "file_extension": ".py",
      "mimetype": "text/x-python",
      "name": "python",
      "nbconvert_exporter": "python",
      "pygments_lexer": "ipython3",
      "version": "3.7.11"
    }
  },
  "nbformat": 4,
  "nbformat_minor": 0
}
